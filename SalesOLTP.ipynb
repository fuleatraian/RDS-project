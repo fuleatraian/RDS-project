{
 "cells": [
  {
   "cell_type": "code",
   "execution_count": 23,
   "metadata": {},
   "outputs": [
    {
     "name": "stdout",
     "output_type": "stream",
     "text": [
      "<mysql.connector.connection_cext.CMySQLConnection object at 0x000001CE9086E0E0>\n"
     ]
    }
   ],
   "source": [
    "import mysql.connector\n",
    "\n",
    "#Connect to MariaDB via .connect method and user the root user \n",
    "Module2 = mysql.connector.connect(user = 'root')\n",
    "print(Module2)\n",
    "\n",
    "mycursor = Module2.cursor()\n",
    "\n",
    "\n",
    "mycursor.execute(\"DROP DATABASE IF EXISTS salesdb;\")\n",
    "mycursor.execute(\"CREATE DATABASE IF NOT EXISTS salesdb;\")\n",
    "mycursor.execute(\"SHOW DATABASES;\")\n",
    "\n",
    "# #Display the available databases\n",
    "\n",
    "print(\"Databases:\")\n",
    "for x in mycursor:\n",
    "    print(x)\n",
    "\n",
    "\n",
    "#Use the salesDB database\n",
    "mycursor.execute(\"USE salesdb;\")\n",
    "\n"
   ]
  },
  {
   "cell_type": "code",
   "execution_count": null,
   "metadata": {},
   "outputs": [],
   "source": []
  },
  {
   "cell_type": "code",
   "execution_count": null,
   "metadata": {},
   "outputs": [],
   "source": []
  },
  {
   "cell_type": "code",
   "execution_count": null,
   "metadata": {},
   "outputs": [],
   "source": []
  }
 ],
 "metadata": {
  "interpreter": {
   "hash": "58f3e81b13e23bae75fd2e9d69b67c01a44b3aaa8d948868ace202819baa4e32"
  },
  "kernelspec": {
   "display_name": "Python 3.10.1 64-bit",
   "language": "python",
   "name": "python3"
  },
  "language_info": {
   "codemirror_mode": {
    "name": "ipython",
    "version": 3
   },
   "file_extension": ".py",
   "mimetype": "text/x-python",
   "name": "python",
   "nbconvert_exporter": "python",
   "pygments_lexer": "ipython3",
   "version": "3.10.1"
  },
  "orig_nbformat": 4
 },
 "nbformat": 4,
 "nbformat_minor": 2
}
